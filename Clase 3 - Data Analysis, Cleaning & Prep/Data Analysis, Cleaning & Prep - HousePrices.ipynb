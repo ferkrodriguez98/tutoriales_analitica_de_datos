{
 "cells": [
  {
   "cell_type": "markdown",
   "metadata": {
    "id": "y80qD1E1SbU0"
   },
   "source": [
    "# Introducción a pandas."
   ]
  },
  {
   "cell_type": "markdown",
   "metadata": {
    "id": "68xhGWTn-iAx"
   },
   "source": [
    "Es una biblioteca de Python pensada para la manipulación y análisis de datos."
   ]
  },
  {
   "cell_type": "markdown",
   "metadata": {
    "id": "JL1OirbR-k-v"
   },
   "source": [
    "# Objetos\n",
    "\n"
   ]
  },
  {
   "cell_type": "markdown",
   "metadata": {
    "id": "BYREmsp4-eZJ"
   },
   "source": [
    "Un objeto es una estructura de datos que pertenece a la librería. El más común es el DataFrame, pero también hay otros como la Series\n",
    "\n",
    "Estos objetos son instancias de clases definidas por Pandas, y tienen:\n",
    "\n",
    "Atributos → información asociada (como el tamaño, las columnas, los índices).\n",
    "\n",
    "Métodos → funciones que podés aplicar sobre ese objeto (como .head(), .describe(), .mean())."
   ]
  },
  {
   "cell_type": "markdown",
   "metadata": {
    "id": "zOnYIDUq8iPJ"
   },
   "source": [
    "# Dataframes\n"
   ]
  },
  {
   "cell_type": "markdown",
   "metadata": {
    "id": "gdrjgr9V9xwy"
   },
   "source": [
    "Un DataFrame es como una tabla: tiene filas y columnas, y cada columna puede tener un tipo de dato diferente. Acá, por ejemplo, tenemos una columna de nombres (texto), una de edades (números) y una de ciudades (texto). Pandas nos permite trabajar con esta estructura de manera muy eficiente.\"\n",
    "\n"
   ]
  },
  {
   "cell_type": "code",
   "execution_count": 1,
   "metadata": {
    "colab": {
     "base_uri": "https://localhost:8080/",
     "height": 238
    },
    "executionInfo": {
     "elapsed": 73,
     "status": "ok",
     "timestamp": 1743991509560,
     "user": {
      "displayName": "Juan Costa",
      "userId": "08159941395421442617"
     },
     "user_tz": 180
    },
    "id": "EPYPDR958Wvz",
    "outputId": "87c6ff51-d2d1-4edc-d45b-cc6b5f9d4fd1"
   },
   "outputs": [
    {
     "data": {
      "text/html": [
       "<div>\n",
       "<style scoped>\n",
       "    .dataframe tbody tr th:only-of-type {\n",
       "        vertical-align: middle;\n",
       "    }\n",
       "\n",
       "    .dataframe tbody tr th {\n",
       "        vertical-align: top;\n",
       "    }\n",
       "\n",
       "    .dataframe thead th {\n",
       "        text-align: right;\n",
       "    }\n",
       "</style>\n",
       "<table border=\"1\" class=\"dataframe\">\n",
       "  <thead>\n",
       "    <tr style=\"text-align: right;\">\n",
       "      <th></th>\n",
       "      <th>Nombre</th>\n",
       "      <th>Edad</th>\n",
       "      <th>Ciudad</th>\n",
       "    </tr>\n",
       "  </thead>\n",
       "  <tbody>\n",
       "    <tr>\n",
       "      <th>0</th>\n",
       "      <td>Ana</td>\n",
       "      <td>22</td>\n",
       "      <td>Buenos Aires</td>\n",
       "    </tr>\n",
       "    <tr>\n",
       "      <th>1</th>\n",
       "      <td>Luis</td>\n",
       "      <td>35</td>\n",
       "      <td>Rosario</td>\n",
       "    </tr>\n",
       "    <tr>\n",
       "      <th>2</th>\n",
       "      <td>Marta</td>\n",
       "      <td>58</td>\n",
       "      <td>Córdoba</td>\n",
       "    </tr>\n",
       "    <tr>\n",
       "      <th>3</th>\n",
       "      <td>Carlos</td>\n",
       "      <td>30</td>\n",
       "      <td>Buenos Aires</td>\n",
       "    </tr>\n",
       "    <tr>\n",
       "      <th>4</th>\n",
       "      <td>Lucas</td>\n",
       "      <td>50</td>\n",
       "      <td>San Juan</td>\n",
       "    </tr>\n",
       "    <tr>\n",
       "      <th>5</th>\n",
       "      <td>Miguel</td>\n",
       "      <td>23</td>\n",
       "      <td>Rosario</td>\n",
       "    </tr>\n",
       "  </tbody>\n",
       "</table>\n",
       "</div>"
      ],
      "text/plain": [
       "   Nombre  Edad        Ciudad\n",
       "0     Ana    22  Buenos Aires\n",
       "1    Luis    35       Rosario\n",
       "2   Marta    58       Córdoba\n",
       "3  Carlos    30  Buenos Aires\n",
       "4   Lucas    50      San Juan\n",
       "5  Miguel    23       Rosario"
      ]
     },
     "execution_count": 1,
     "metadata": {},
     "output_type": "execute_result"
    }
   ],
   "source": [
    "import pandas as pd  # Importamos la librería\n",
    "\n",
    "# Creamos un DataFrame a partir de un diccionario\n",
    "datos = {\n",
    "    \"Nombre\": [\"Ana\", \"Luis\", \"Marta\",\"Carlos\", \"Lucas\", \"Miguel\"],\n",
    "    \"Edad\": [22, 35, 58, 30, 50, 23],\n",
    "    \"Ciudad\": [\"Buenos Aires\", \"Rosario\", \"Córdoba\",\"Buenos Aires\", \"San Juan\", \"Rosario\"]\n",
    "}\n",
    "\n",
    "df = pd.DataFrame(datos)\n",
    "\n",
    "# Mostramos el DataFrame\n",
    "df"
   ]
  },
  {
   "cell_type": "code",
   "execution_count": 2,
   "metadata": {
    "colab": {
     "base_uri": "https://localhost:8080/"
    },
    "executionInfo": {
     "elapsed": 8,
     "status": "ok",
     "timestamp": 1743991511952,
     "user": {
      "displayName": "Juan Costa",
      "userId": "08159941395421442617"
     },
     "user_tz": 180
    },
    "id": "-xmjCxpl9Bnf",
    "outputId": "c21c5a14-854e-4e7d-8149-dc15b79bccf4"
   },
   "outputs": [
    {
     "name": "stdout",
     "output_type": "stream",
     "text": [
      "   Nombre  Edad        Ciudad\n",
      "0     Ana    22  Buenos Aires\n",
      "1    Luis    35       Rosario\n",
      "2   Marta    58       Córdoba\n",
      "3  Carlos    30  Buenos Aires\n",
      "4   Lucas    50      San Juan\n",
      "5  Miguel    23       Rosario\n"
     ]
    }
   ],
   "source": [
    "# Si hacen el print (df) se ve con esta visualización, siempre es mejor hacerlo sin el print()\n",
    "print(df)"
   ]
  },
  {
   "cell_type": "code",
   "execution_count": 3,
   "metadata": {},
   "outputs": [
    {
     "data": {
      "text/html": [
       "<div>\n",
       "<style scoped>\n",
       "    .dataframe tbody tr th:only-of-type {\n",
       "        vertical-align: middle;\n",
       "    }\n",
       "\n",
       "    .dataframe tbody tr th {\n",
       "        vertical-align: top;\n",
       "    }\n",
       "\n",
       "    .dataframe thead th {\n",
       "        text-align: right;\n",
       "    }\n",
       "</style>\n",
       "<table border=\"1\" class=\"dataframe\">\n",
       "  <thead>\n",
       "    <tr style=\"text-align: right;\">\n",
       "      <th></th>\n",
       "      <th>Nombre</th>\n",
       "      <th>Edad</th>\n",
       "      <th>Ciudad</th>\n",
       "    </tr>\n",
       "  </thead>\n",
       "  <tbody>\n",
       "    <tr>\n",
       "      <th>0</th>\n",
       "      <td>Ana</td>\n",
       "      <td>22</td>\n",
       "      <td>Buenos Aires</td>\n",
       "    </tr>\n",
       "    <tr>\n",
       "      <th>1</th>\n",
       "      <td>Luis</td>\n",
       "      <td>35</td>\n",
       "      <td>Rosario</td>\n",
       "    </tr>\n",
       "    <tr>\n",
       "      <th>2</th>\n",
       "      <td>Marta</td>\n",
       "      <td>58</td>\n",
       "      <td>Córdoba</td>\n",
       "    </tr>\n",
       "    <tr>\n",
       "      <th>3</th>\n",
       "      <td>Carlos</td>\n",
       "      <td>30</td>\n",
       "      <td>Buenos Aires</td>\n",
       "    </tr>\n",
       "    <tr>\n",
       "      <th>4</th>\n",
       "      <td>Lucas</td>\n",
       "      <td>50</td>\n",
       "      <td>San Juan</td>\n",
       "    </tr>\n",
       "    <tr>\n",
       "      <th>5</th>\n",
       "      <td>Miguel</td>\n",
       "      <td>23</td>\n",
       "      <td>Rosario</td>\n",
       "    </tr>\n",
       "  </tbody>\n",
       "</table>\n",
       "</div>"
      ],
      "text/plain": [
       "   Nombre  Edad        Ciudad\n",
       "0     Ana    22  Buenos Aires\n",
       "1    Luis    35       Rosario\n",
       "2   Marta    58       Córdoba\n",
       "3  Carlos    30  Buenos Aires\n",
       "4   Lucas    50      San Juan\n",
       "5  Miguel    23       Rosario"
      ]
     },
     "execution_count": 3,
     "metadata": {},
     "output_type": "execute_result"
    }
   ],
   "source": [
    "df"
   ]
  },
  {
   "cell_type": "code",
   "execution_count": 4,
   "metadata": {
    "colab": {
     "base_uri": "https://localhost:8080/"
    },
    "executionInfo": {
     "elapsed": 6,
     "status": "ok",
     "timestamp": 1743991514716,
     "user": {
      "displayName": "Juan Costa",
      "userId": "08159941395421442617"
     },
     "user_tz": 180
    },
    "id": "vOAMXQRN_Q2P",
    "outputId": "b38a41a9-8f3c-444e-b402-fee14c805dd8"
   },
   "outputs": [
    {
     "name": "stdout",
     "output_type": "stream",
     "text": [
      "(6, 3)\n"
     ]
    }
   ],
   "source": [
    "print(df.shape)"
   ]
  },
  {
   "cell_type": "code",
   "execution_count": 5,
   "metadata": {
    "colab": {
     "base_uri": "https://localhost:8080/"
    },
    "executionInfo": {
     "elapsed": 15,
     "status": "ok",
     "timestamp": 1743991516165,
     "user": {
      "displayName": "Juan Costa",
      "userId": "08159941395421442617"
     },
     "user_tz": 180
    },
    "id": "-Lggft1e_R4V",
    "outputId": "42ef2496-d05e-4936-bdf6-a3dcd0e7c8a2"
   },
   "outputs": [
    {
     "name": "stdout",
     "output_type": "stream",
     "text": [
      "   Nombre  Edad        Ciudad\n",
      "0     Ana    22  Buenos Aires\n",
      "1    Luis    35       Rosario\n",
      "2   Marta    58       Córdoba\n",
      "3  Carlos    30  Buenos Aires\n",
      "4   Lucas    50      San Juan\n",
      "\n",
      "            Edad\n",
      "count   6.000000\n",
      "mean   36.333333\n",
      "std    14.706008\n",
      "min    22.000000\n",
      "25%    24.750000\n",
      "50%    32.500000\n",
      "75%    46.250000\n",
      "max    58.000000\n"
     ]
    }
   ],
   "source": [
    "# Y métodos\n",
    "print(df.head())    # Muestra las primeras 5 filas del df\n",
    "print()\n",
    "print(df.describe())  # Estadísticas básicas de las columnas numéricas"
   ]
  },
  {
   "cell_type": "markdown",
   "metadata": {
    "id": "qwdv2MF6A01j"
   },
   "source": [
    "# Series\n"
   ]
  },
  {
   "cell_type": "markdown",
   "metadata": {
    "id": "kEajgcazBPk1"
   },
   "source": [
    "Una Serie es un objeto unidimensional de Pandas. Es como una columna de Excel o una lista, pero con etiquetas (índices) que podés personalizar.\n",
    "\n",
    "Es más poderosa que una lista común porque tiene etiquetas para cada dato.\n",
    "\n",
    "Puede contener números, texto, fechas, etc.\n",
    "\n",
    "Es la unidad básica sobre la que se construyen los DataFrames."
   ]
  },
  {
   "cell_type": "code",
   "execution_count": 6,
   "metadata": {
    "colab": {
     "base_uri": "https://localhost:8080/",
     "height": 178
    },
    "collapsed": true,
    "executionInfo": {
     "elapsed": 54,
     "status": "ok",
     "timestamp": 1743991991363,
     "user": {
      "displayName": "Juan Costa",
      "userId": "08159941395421442617"
     },
     "user_tz": 180
    },
    "id": "aab9z_-8BYmn",
    "outputId": "df42907d-8f9f-4da7-b8d2-8d7e8dee6880"
   },
   "outputs": [
    {
     "data": {
      "text/plain": [
       "Ana      22\n",
       "Luis     35\n",
       "Marta    58\n",
       "dtype: int64"
      ]
     },
     "execution_count": 6,
     "metadata": {},
     "output_type": "execute_result"
    }
   ],
   "source": [
    "import pandas as pd\n",
    "\n",
    "# Creamos una Serie con una lista de valores\n",
    "edades = pd.Series([22, 35, 58], index=[\"Ana\", \"Luis\", \"Marta\"])\n",
    "\n",
    "# Mostramos la Serie\n",
    "edades"
   ]
  },
  {
   "cell_type": "markdown",
   "metadata": {
    "id": "3AR1img6Bl3F"
   },
   "source": [
    "Serie Vs Lista"
   ]
  },
  {
   "cell_type": "code",
   "execution_count": 7,
   "metadata": {
    "id": "g9bzG5XPBlSo"
   },
   "outputs": [],
   "source": [
    "lista = [22, 35, 58]  # No tiene etiquetas\n",
    "serie = pd.Series(lista, index=[\"Ana\", \"Luis\", \"Marta\"])  # Tiene etiquetas\n"
   ]
  },
  {
   "cell_type": "markdown",
   "metadata": {
    "id": "g-kFkPeFC2DL"
   },
   "source": [
    "# Ejercicio con Dataset de Kaggle\n"
   ]
  },
  {
   "cell_type": "markdown",
   "metadata": {
    "id": "JMlbJOwgCAhH"
   },
   "source": [
    "Hoy vamos a analizar un dataset en Kaggle. Kaggle es una página que está lleno de datasets y notebooks que la gente sube y puede bajar. Vamos a estar trabajando con uno de precios de casas que está en el siguiente link (https://www.kaggle.com/competitions/house-prices-advanced-regression-techniques). Como lo estamos descargando, vamos a tener que subir el .csv a este entorno cada vez que abramos el notebook. Para subirlo lo meten en la carpetita de la izquierda."
   ]
  },
  {
   "cell_type": "code",
   "execution_count": 8,
   "metadata": {
    "id": "YZaKHjzwCFys"
   },
   "outputs": [],
   "source": [
    "import pandas as pd\n",
    "import seaborn as sns\n",
    "import matplotlib.pyplot as plt\n",
    "\n",
    "data = pd.read_csv('HousePrices.csv')"
   ]
  },
  {
   "cell_type": "markdown",
   "metadata": {
    "id": "J8o_nDKYCMFC"
   },
   "source": [
    "Data fields\n",
    "\n",
    "Here's a brief version of what you'll find in the data description file.\n",
    "\n",
    "- SalePrice - the property's sale price in dollars. This is the target variable that you're trying to predict.\n",
    "- MSSubClass: The building class\n",
    "- MSZoning: The general zoning classification\n",
    "- LotFrontage: Linear feet of street connected to property\n",
    "- LotArea: Lot size in square feet\n",
    "- Street: Type of road access\n",
    "- Alley: Type of alley access\n",
    "- LotShape: General shape of property\n",
    "- LandContour: Flatness of the property\n",
    "- Utilities: Type of utilities available\n",
    "- LotConfig: Lot configuration\n",
    "- LandSlope: Slope of property\n",
    "- Neighborhood: Physical locations within Ames city limits\n",
    "- Condition1: Proximity to main road or railroad\n",
    "- Condition2: Proximity to main road or railroad (if a second is present)\n",
    "- BldgType: Type of dwelling\n",
    "- HouseStyle: Style of dwelling\n",
    "- OverallQual: Overall material and finish quality\n",
    "- OverallCond: Overall condition rating\n",
    "- YearBuilt: Original construction date\n",
    "- YearRemodAdd: Remodel date\n",
    "- RoofStyle: Type of roof\n",
    "- RoofMatl: Roof material\n",
    "- Exterior1st: Exterior covering on house\n",
    "- Exterior2nd: Exterior covering on house (if more than one material)\n",
    "- MasVnrType: Masonry veneer type\n",
    "- MasVnrArea: Masonry veneer area in square feet\n",
    "- ExterQual: Exterior material quality\n",
    "- ExterCond: Present condition of the material on the exterior\n",
    "- Foundation: Type of foundation\n",
    "- BsmtQual: Height of the basement\n",
    "- BsmtCond: General condition of the basement\n",
    "- BsmtExposure: Walkout or garden level basement walls\n",
    "- BsmtFinType1: Quality of basement finished area\n",
    "- BsmtFinSF1: Type 1 finished square feet\n",
    "- BsmtFinType2: Quality of second finished area (if present)\n",
    "- BsmtFinSF2: Type 2 finished square feet\n",
    "- BsmtUnfSF: Unfinished square feet of basement area\n",
    "- TotalBsmtSF: Total square feet of basement area\n",
    "- Heating: Type of heating\n",
    "- HeatingQC: Heating quality and condition\n",
    "- CentralAir: Central air conditioning\n",
    "- Electrical: Electrical system\n",
    "- 1stFlrSF: First Floor square feet\n",
    "- 2ndFlrSF: Second floor square feet\n",
    "- LowQualFinSF: Low quality finished square feet (all floors)\n",
    "- GrLivArea: Above grade (ground) living area square feet\n",
    "- BsmtFullBath: Basement full bathrooms\n",
    "- BsmtHalfBath: Basement half bathrooms\n",
    "- FullBath: Full bathrooms above grade\n",
    "- HalfBath: Half baths above grade\n",
    "- Bedroom: Number of bedrooms above basement level\n",
    "- Kitchen: Number of kitchens\n",
    "- KitchenQual: Kitchen quality\n",
    "- TotRmsAbvGrd: Total rooms above grade (does not include bathrooms)\n",
    "- Functional: Home functionality rating\n",
    "- Fireplaces: Number of fireplaces\n",
    "- FireplaceQu: Fireplace quality\n",
    "- GarageType: Garage location\n",
    "- GarageYrBlt: Year garage was built\n",
    "- GarageFinish: Interior finish of the garage\n",
    "- GarageCars: Size of garage in car capacity\n",
    "- GarageArea: Size of garage in square feet\n",
    "- GarageQual: Garage quality\n",
    "- GarageCond: Garage condition\n",
    "- PavedDrive: Paved driveway\n",
    "- WoodDeckSF: Wood deck area in square feet\n",
    "- OpenPorchSF: Open porch area in square feet\n",
    "- EnclosedPorch: Enclosed porch area in square feet\n",
    "- 3SsnPorch: Three season porch area in square feet\n",
    "- ScreenPorch: Screen porch area in square feet\n",
    "- PoolArea: Pool area in square feet\n",
    "- PoolQC: Pool quality\n",
    "- Fence: Fence quality\n",
    "- MiscFeature: Miscellaneous feature not covered in other categories\n",
    "- MiscVal: $Value of miscellaneous feature\n",
    "- MoSold: Month Sold\n",
    "- YrSold: Year Sold\n",
    "- SaleType: Type of sale\n",
    "- SaleCondition: Condition of sale"
   ]
  },
  {
   "cell_type": "code",
   "execution_count": 9,
   "metadata": {
    "colab": {
     "base_uri": "https://localhost:8080/"
    },
    "executionInfo": {
     "elapsed": 53,
     "status": "ok",
     "timestamp": 1743810269312,
     "user": {
      "displayName": "Fermin Rodriguez del Castillo",
      "userId": "08847911671418289029"
     },
     "user_tz": 180
    },
    "id": "EqZpYcZVCz0u",
    "outputId": "62c4168c-2f26-49ac-de40-97b7d44d8985"
   },
   "outputs": [
    {
     "name": "stdout",
     "output_type": "stream",
     "text": [
      "<class 'pandas.core.frame.DataFrame'>\n",
      "RangeIndex: 1460 entries, 0 to 1459\n",
      "Data columns (total 81 columns):\n",
      " #   Column         Non-Null Count  Dtype  \n",
      "---  ------         --------------  -----  \n",
      " 0   Id             1460 non-null   int64  \n",
      " 1   MSSubClass     1460 non-null   int64  \n",
      " 2   MSZoning       1460 non-null   object \n",
      " 3   LotFrontage    1201 non-null   float64\n",
      " 4   LotArea        1460 non-null   int64  \n",
      " 5   Street         1460 non-null   object \n",
      " 6   Alley          91 non-null     object \n",
      " 7   LotShape       1460 non-null   object \n",
      " 8   LandContour    1460 non-null   object \n",
      " 9   Utilities      1460 non-null   object \n",
      " 10  LotConfig      1460 non-null   object \n",
      " 11  LandSlope      1460 non-null   object \n",
      " 12  Neighborhood   1460 non-null   object \n",
      " 13  Condition1     1460 non-null   object \n",
      " 14  Condition2     1460 non-null   object \n",
      " 15  BldgType       1460 non-null   object \n",
      " 16  HouseStyle     1460 non-null   object \n",
      " 17  OverallQual    1460 non-null   int64  \n",
      " 18  OverallCond    1460 non-null   int64  \n",
      " 19  YearBuilt      1460 non-null   int64  \n",
      " 20  YearRemodAdd   1460 non-null   int64  \n",
      " 21  RoofStyle      1460 non-null   object \n",
      " 22  RoofMatl       1460 non-null   object \n",
      " 23  Exterior1st    1460 non-null   object \n",
      " 24  Exterior2nd    1460 non-null   object \n",
      " 25  MasVnrType     588 non-null    object \n",
      " 26  MasVnrArea     1452 non-null   float64\n",
      " 27  ExterQual      1460 non-null   object \n",
      " 28  ExterCond      1460 non-null   object \n",
      " 29  Foundation     1460 non-null   object \n",
      " 30  BsmtQual       1423 non-null   object \n",
      " 31  BsmtCond       1423 non-null   object \n",
      " 32  BsmtExposure   1422 non-null   object \n",
      " 33  BsmtFinType1   1423 non-null   object \n",
      " 34  BsmtFinSF1     1460 non-null   int64  \n",
      " 35  BsmtFinType2   1422 non-null   object \n",
      " 36  BsmtFinSF2     1460 non-null   int64  \n",
      " 37  BsmtUnfSF      1460 non-null   int64  \n",
      " 38  TotalBsmtSF    1460 non-null   int64  \n",
      " 39  Heating        1460 non-null   object \n",
      " 40  HeatingQC      1460 non-null   object \n",
      " 41  CentralAir     1460 non-null   object \n",
      " 42  Electrical     1459 non-null   object \n",
      " 43  1stFlrSF       1460 non-null   int64  \n",
      " 44  2ndFlrSF       1460 non-null   int64  \n",
      " 45  LowQualFinSF   1460 non-null   int64  \n",
      " 46  GrLivArea      1460 non-null   int64  \n",
      " 47  BsmtFullBath   1460 non-null   int64  \n",
      " 48  BsmtHalfBath   1460 non-null   int64  \n",
      " 49  FullBath       1460 non-null   int64  \n",
      " 50  HalfBath       1460 non-null   int64  \n",
      " 51  BedroomAbvGr   1460 non-null   int64  \n",
      " 52  KitchenAbvGr   1460 non-null   int64  \n",
      " 53  KitchenQual    1460 non-null   object \n",
      " 54  TotRmsAbvGrd   1460 non-null   int64  \n",
      " 55  Functional     1460 non-null   object \n",
      " 56  Fireplaces     1460 non-null   int64  \n",
      " 57  FireplaceQu    770 non-null    object \n",
      " 58  GarageType     1379 non-null   object \n",
      " 59  GarageYrBlt    1379 non-null   float64\n",
      " 60  GarageFinish   1379 non-null   object \n",
      " 61  GarageCars     1460 non-null   int64  \n",
      " 62  GarageArea     1460 non-null   int64  \n",
      " 63  GarageQual     1379 non-null   object \n",
      " 64  GarageCond     1379 non-null   object \n",
      " 65  PavedDrive     1460 non-null   object \n",
      " 66  WoodDeckSF     1460 non-null   int64  \n",
      " 67  OpenPorchSF    1460 non-null   int64  \n",
      " 68  EnclosedPorch  1460 non-null   int64  \n",
      " 69  3SsnPorch      1460 non-null   int64  \n",
      " 70  ScreenPorch    1460 non-null   int64  \n",
      " 71  PoolArea       1460 non-null   int64  \n",
      " 72  PoolQC         7 non-null      object \n",
      " 73  Fence          281 non-null    object \n",
      " 74  MiscFeature    54 non-null     object \n",
      " 75  MiscVal        1460 non-null   int64  \n",
      " 76  MoSold         1460 non-null   int64  \n",
      " 77  YrSold         1460 non-null   int64  \n",
      " 78  SaleType       1460 non-null   object \n",
      " 79  SaleCondition  1460 non-null   object \n",
      " 80  SalePrice      1460 non-null   int64  \n",
      "dtypes: float64(3), int64(35), object(43)\n",
      "memory usage: 924.0+ KB\n",
      "None\n"
     ]
    }
   ],
   "source": [
    "print(data.info())"
   ]
  },
  {
   "cell_type": "code",
   "execution_count": 10,
   "metadata": {
    "colab": {
     "base_uri": "https://localhost:8080/"
    },
    "executionInfo": {
     "elapsed": 143,
     "status": "ok",
     "timestamp": 1743810269454,
     "user": {
      "displayName": "Fermin Rodriguez del Castillo",
      "userId": "08847911671418289029"
     },
     "user_tz": 180
    },
    "id": "q-M7y9XcC1cF",
    "outputId": "dd26416a-933c-4622-a827-5812c4a2ee1c"
   },
   "outputs": [
    {
     "name": "stdout",
     "output_type": "stream",
     "text": [
      "                 Id   MSSubClass MSZoning  LotFrontage        LotArea Street  \\\n",
      "count   1460.000000  1460.000000     1460  1201.000000    1460.000000   1460   \n",
      "unique          NaN          NaN        5          NaN            NaN      2   \n",
      "top             NaN          NaN       RL          NaN            NaN   Pave   \n",
      "freq            NaN          NaN     1151          NaN            NaN   1454   \n",
      "mean     730.500000    56.897260      NaN    70.049958   10516.828082    NaN   \n",
      "std      421.610009    42.300571      NaN    24.284752    9981.264932    NaN   \n",
      "min        1.000000    20.000000      NaN    21.000000    1300.000000    NaN   \n",
      "25%      365.750000    20.000000      NaN    59.000000    7553.500000    NaN   \n",
      "50%      730.500000    50.000000      NaN    69.000000    9478.500000    NaN   \n",
      "75%     1095.250000    70.000000      NaN    80.000000   11601.500000    NaN   \n",
      "max     1460.000000   190.000000      NaN   313.000000  215245.000000    NaN   \n",
      "\n",
      "       Alley LotShape LandContour Utilities  ...     PoolArea PoolQC  Fence  \\\n",
      "count     91     1460        1460      1460  ...  1460.000000      7    281   \n",
      "unique     2        4           4         2  ...          NaN      3      4   \n",
      "top     Grvl      Reg         Lvl    AllPub  ...          NaN     Gd  MnPrv   \n",
      "freq      50      925        1311      1459  ...          NaN      3    157   \n",
      "mean     NaN      NaN         NaN       NaN  ...     2.758904    NaN    NaN   \n",
      "std      NaN      NaN         NaN       NaN  ...    40.177307    NaN    NaN   \n",
      "min      NaN      NaN         NaN       NaN  ...     0.000000    NaN    NaN   \n",
      "25%      NaN      NaN         NaN       NaN  ...     0.000000    NaN    NaN   \n",
      "50%      NaN      NaN         NaN       NaN  ...     0.000000    NaN    NaN   \n",
      "75%      NaN      NaN         NaN       NaN  ...     0.000000    NaN    NaN   \n",
      "max      NaN      NaN         NaN       NaN  ...   738.000000    NaN    NaN   \n",
      "\n",
      "       MiscFeature       MiscVal       MoSold       YrSold  SaleType  \\\n",
      "count           54   1460.000000  1460.000000  1460.000000      1460   \n",
      "unique           4           NaN          NaN          NaN         9   \n",
      "top           Shed           NaN          NaN          NaN        WD   \n",
      "freq            49           NaN          NaN          NaN      1267   \n",
      "mean           NaN     43.489041     6.321918  2007.815753       NaN   \n",
      "std            NaN    496.123024     2.703626     1.328095       NaN   \n",
      "min            NaN      0.000000     1.000000  2006.000000       NaN   \n",
      "25%            NaN      0.000000     5.000000  2007.000000       NaN   \n",
      "50%            NaN      0.000000     6.000000  2008.000000       NaN   \n",
      "75%            NaN      0.000000     8.000000  2009.000000       NaN   \n",
      "max            NaN  15500.000000    12.000000  2010.000000       NaN   \n",
      "\n",
      "        SaleCondition      SalePrice  \n",
      "count            1460    1460.000000  \n",
      "unique              6            NaN  \n",
      "top            Normal            NaN  \n",
      "freq             1198            NaN  \n",
      "mean              NaN  180921.195890  \n",
      "std               NaN   79442.502883  \n",
      "min               NaN   34900.000000  \n",
      "25%               NaN  129975.000000  \n",
      "50%               NaN  163000.000000  \n",
      "75%               NaN  214000.000000  \n",
      "max               NaN  755000.000000  \n",
      "\n",
      "[11 rows x 81 columns]\n"
     ]
    }
   ],
   "source": [
    "print(data.describe(include='all'))"
   ]
  },
  {
   "cell_type": "code",
   "execution_count": 11,
   "metadata": {
    "colab": {
     "base_uri": "https://localhost:8080/",
     "height": 408
    },
    "executionInfo": {
     "elapsed": 68,
     "status": "ok",
     "timestamp": 1743810269528,
     "user": {
      "displayName": "Fermin Rodriguez del Castillo",
      "userId": "08847911671418289029"
     },
     "user_tz": 180
    },
    "id": "xdwckNbLC6Kx",
    "outputId": "66aaa125-7227-418f-f9de-d08f34089632"
   },
   "outputs": [
    {
     "data": {
      "text/html": [
       "<div>\n",
       "<style scoped>\n",
       "    .dataframe tbody tr th:only-of-type {\n",
       "        vertical-align: middle;\n",
       "    }\n",
       "\n",
       "    .dataframe tbody tr th {\n",
       "        vertical-align: top;\n",
       "    }\n",
       "\n",
       "    .dataframe thead th {\n",
       "        text-align: right;\n",
       "    }\n",
       "</style>\n",
       "<table border=\"1\" class=\"dataframe\">\n",
       "  <thead>\n",
       "    <tr style=\"text-align: right;\">\n",
       "      <th></th>\n",
       "      <th>Id</th>\n",
       "      <th>MSSubClass</th>\n",
       "      <th>MSZoning</th>\n",
       "      <th>LotFrontage</th>\n",
       "      <th>LotArea</th>\n",
       "      <th>Street</th>\n",
       "      <th>Alley</th>\n",
       "      <th>LotShape</th>\n",
       "      <th>LandContour</th>\n",
       "      <th>Utilities</th>\n",
       "      <th>...</th>\n",
       "      <th>PoolArea</th>\n",
       "      <th>PoolQC</th>\n",
       "      <th>Fence</th>\n",
       "      <th>MiscFeature</th>\n",
       "      <th>MiscVal</th>\n",
       "      <th>MoSold</th>\n",
       "      <th>YrSold</th>\n",
       "      <th>SaleType</th>\n",
       "      <th>SaleCondition</th>\n",
       "      <th>SalePrice</th>\n",
       "    </tr>\n",
       "  </thead>\n",
       "  <tbody>\n",
       "    <tr>\n",
       "      <th>0</th>\n",
       "      <td>1</td>\n",
       "      <td>60</td>\n",
       "      <td>RL</td>\n",
       "      <td>65.0</td>\n",
       "      <td>8450</td>\n",
       "      <td>Pave</td>\n",
       "      <td>NaN</td>\n",
       "      <td>Reg</td>\n",
       "      <td>Lvl</td>\n",
       "      <td>AllPub</td>\n",
       "      <td>...</td>\n",
       "      <td>0</td>\n",
       "      <td>NaN</td>\n",
       "      <td>NaN</td>\n",
       "      <td>NaN</td>\n",
       "      <td>0</td>\n",
       "      <td>2</td>\n",
       "      <td>2008</td>\n",
       "      <td>WD</td>\n",
       "      <td>Normal</td>\n",
       "      <td>208500</td>\n",
       "    </tr>\n",
       "    <tr>\n",
       "      <th>1</th>\n",
       "      <td>2</td>\n",
       "      <td>20</td>\n",
       "      <td>RL</td>\n",
       "      <td>80.0</td>\n",
       "      <td>9600</td>\n",
       "      <td>Pave</td>\n",
       "      <td>NaN</td>\n",
       "      <td>Reg</td>\n",
       "      <td>Lvl</td>\n",
       "      <td>AllPub</td>\n",
       "      <td>...</td>\n",
       "      <td>0</td>\n",
       "      <td>NaN</td>\n",
       "      <td>NaN</td>\n",
       "      <td>NaN</td>\n",
       "      <td>0</td>\n",
       "      <td>5</td>\n",
       "      <td>2007</td>\n",
       "      <td>WD</td>\n",
       "      <td>Normal</td>\n",
       "      <td>181500</td>\n",
       "    </tr>\n",
       "    <tr>\n",
       "      <th>2</th>\n",
       "      <td>3</td>\n",
       "      <td>60</td>\n",
       "      <td>RL</td>\n",
       "      <td>68.0</td>\n",
       "      <td>11250</td>\n",
       "      <td>Pave</td>\n",
       "      <td>NaN</td>\n",
       "      <td>IR1</td>\n",
       "      <td>Lvl</td>\n",
       "      <td>AllPub</td>\n",
       "      <td>...</td>\n",
       "      <td>0</td>\n",
       "      <td>NaN</td>\n",
       "      <td>NaN</td>\n",
       "      <td>NaN</td>\n",
       "      <td>0</td>\n",
       "      <td>9</td>\n",
       "      <td>2008</td>\n",
       "      <td>WD</td>\n",
       "      <td>Normal</td>\n",
       "      <td>223500</td>\n",
       "    </tr>\n",
       "    <tr>\n",
       "      <th>3</th>\n",
       "      <td>4</td>\n",
       "      <td>70</td>\n",
       "      <td>RL</td>\n",
       "      <td>60.0</td>\n",
       "      <td>9550</td>\n",
       "      <td>Pave</td>\n",
       "      <td>NaN</td>\n",
       "      <td>IR1</td>\n",
       "      <td>Lvl</td>\n",
       "      <td>AllPub</td>\n",
       "      <td>...</td>\n",
       "      <td>0</td>\n",
       "      <td>NaN</td>\n",
       "      <td>NaN</td>\n",
       "      <td>NaN</td>\n",
       "      <td>0</td>\n",
       "      <td>2</td>\n",
       "      <td>2006</td>\n",
       "      <td>WD</td>\n",
       "      <td>Abnorml</td>\n",
       "      <td>140000</td>\n",
       "    </tr>\n",
       "    <tr>\n",
       "      <th>4</th>\n",
       "      <td>5</td>\n",
       "      <td>60</td>\n",
       "      <td>RL</td>\n",
       "      <td>84.0</td>\n",
       "      <td>14260</td>\n",
       "      <td>Pave</td>\n",
       "      <td>NaN</td>\n",
       "      <td>IR1</td>\n",
       "      <td>Lvl</td>\n",
       "      <td>AllPub</td>\n",
       "      <td>...</td>\n",
       "      <td>0</td>\n",
       "      <td>NaN</td>\n",
       "      <td>NaN</td>\n",
       "      <td>NaN</td>\n",
       "      <td>0</td>\n",
       "      <td>12</td>\n",
       "      <td>2008</td>\n",
       "      <td>WD</td>\n",
       "      <td>Normal</td>\n",
       "      <td>250000</td>\n",
       "    </tr>\n",
       "    <tr>\n",
       "      <th>5</th>\n",
       "      <td>6</td>\n",
       "      <td>50</td>\n",
       "      <td>RL</td>\n",
       "      <td>85.0</td>\n",
       "      <td>14115</td>\n",
       "      <td>Pave</td>\n",
       "      <td>NaN</td>\n",
       "      <td>IR1</td>\n",
       "      <td>Lvl</td>\n",
       "      <td>AllPub</td>\n",
       "      <td>...</td>\n",
       "      <td>0</td>\n",
       "      <td>NaN</td>\n",
       "      <td>MnPrv</td>\n",
       "      <td>Shed</td>\n",
       "      <td>700</td>\n",
       "      <td>10</td>\n",
       "      <td>2009</td>\n",
       "      <td>WD</td>\n",
       "      <td>Normal</td>\n",
       "      <td>143000</td>\n",
       "    </tr>\n",
       "    <tr>\n",
       "      <th>6</th>\n",
       "      <td>7</td>\n",
       "      <td>20</td>\n",
       "      <td>RL</td>\n",
       "      <td>75.0</td>\n",
       "      <td>10084</td>\n",
       "      <td>Pave</td>\n",
       "      <td>NaN</td>\n",
       "      <td>Reg</td>\n",
       "      <td>Lvl</td>\n",
       "      <td>AllPub</td>\n",
       "      <td>...</td>\n",
       "      <td>0</td>\n",
       "      <td>NaN</td>\n",
       "      <td>NaN</td>\n",
       "      <td>NaN</td>\n",
       "      <td>0</td>\n",
       "      <td>8</td>\n",
       "      <td>2007</td>\n",
       "      <td>WD</td>\n",
       "      <td>Normal</td>\n",
       "      <td>307000</td>\n",
       "    </tr>\n",
       "    <tr>\n",
       "      <th>7</th>\n",
       "      <td>8</td>\n",
       "      <td>60</td>\n",
       "      <td>RL</td>\n",
       "      <td>NaN</td>\n",
       "      <td>10382</td>\n",
       "      <td>Pave</td>\n",
       "      <td>NaN</td>\n",
       "      <td>IR1</td>\n",
       "      <td>Lvl</td>\n",
       "      <td>AllPub</td>\n",
       "      <td>...</td>\n",
       "      <td>0</td>\n",
       "      <td>NaN</td>\n",
       "      <td>NaN</td>\n",
       "      <td>Shed</td>\n",
       "      <td>350</td>\n",
       "      <td>11</td>\n",
       "      <td>2009</td>\n",
       "      <td>WD</td>\n",
       "      <td>Normal</td>\n",
       "      <td>200000</td>\n",
       "    </tr>\n",
       "    <tr>\n",
       "      <th>8</th>\n",
       "      <td>9</td>\n",
       "      <td>50</td>\n",
       "      <td>RM</td>\n",
       "      <td>51.0</td>\n",
       "      <td>6120</td>\n",
       "      <td>Pave</td>\n",
       "      <td>NaN</td>\n",
       "      <td>Reg</td>\n",
       "      <td>Lvl</td>\n",
       "      <td>AllPub</td>\n",
       "      <td>...</td>\n",
       "      <td>0</td>\n",
       "      <td>NaN</td>\n",
       "      <td>NaN</td>\n",
       "      <td>NaN</td>\n",
       "      <td>0</td>\n",
       "      <td>4</td>\n",
       "      <td>2008</td>\n",
       "      <td>WD</td>\n",
       "      <td>Abnorml</td>\n",
       "      <td>129900</td>\n",
       "    </tr>\n",
       "    <tr>\n",
       "      <th>9</th>\n",
       "      <td>10</td>\n",
       "      <td>190</td>\n",
       "      <td>RL</td>\n",
       "      <td>50.0</td>\n",
       "      <td>7420</td>\n",
       "      <td>Pave</td>\n",
       "      <td>NaN</td>\n",
       "      <td>Reg</td>\n",
       "      <td>Lvl</td>\n",
       "      <td>AllPub</td>\n",
       "      <td>...</td>\n",
       "      <td>0</td>\n",
       "      <td>NaN</td>\n",
       "      <td>NaN</td>\n",
       "      <td>NaN</td>\n",
       "      <td>0</td>\n",
       "      <td>1</td>\n",
       "      <td>2008</td>\n",
       "      <td>WD</td>\n",
       "      <td>Normal</td>\n",
       "      <td>118000</td>\n",
       "    </tr>\n",
       "  </tbody>\n",
       "</table>\n",
       "<p>10 rows × 81 columns</p>\n",
       "</div>"
      ],
      "text/plain": [
       "   Id  MSSubClass MSZoning  LotFrontage  LotArea Street Alley LotShape  \\\n",
       "0   1          60       RL         65.0     8450   Pave   NaN      Reg   \n",
       "1   2          20       RL         80.0     9600   Pave   NaN      Reg   \n",
       "2   3          60       RL         68.0    11250   Pave   NaN      IR1   \n",
       "3   4          70       RL         60.0     9550   Pave   NaN      IR1   \n",
       "4   5          60       RL         84.0    14260   Pave   NaN      IR1   \n",
       "5   6          50       RL         85.0    14115   Pave   NaN      IR1   \n",
       "6   7          20       RL         75.0    10084   Pave   NaN      Reg   \n",
       "7   8          60       RL          NaN    10382   Pave   NaN      IR1   \n",
       "8   9          50       RM         51.0     6120   Pave   NaN      Reg   \n",
       "9  10         190       RL         50.0     7420   Pave   NaN      Reg   \n",
       "\n",
       "  LandContour Utilities  ... PoolArea PoolQC  Fence MiscFeature MiscVal  \\\n",
       "0         Lvl    AllPub  ...        0    NaN    NaN         NaN       0   \n",
       "1         Lvl    AllPub  ...        0    NaN    NaN         NaN       0   \n",
       "2         Lvl    AllPub  ...        0    NaN    NaN         NaN       0   \n",
       "3         Lvl    AllPub  ...        0    NaN    NaN         NaN       0   \n",
       "4         Lvl    AllPub  ...        0    NaN    NaN         NaN       0   \n",
       "5         Lvl    AllPub  ...        0    NaN  MnPrv        Shed     700   \n",
       "6         Lvl    AllPub  ...        0    NaN    NaN         NaN       0   \n",
       "7         Lvl    AllPub  ...        0    NaN    NaN        Shed     350   \n",
       "8         Lvl    AllPub  ...        0    NaN    NaN         NaN       0   \n",
       "9         Lvl    AllPub  ...        0    NaN    NaN         NaN       0   \n",
       "\n",
       "  MoSold YrSold  SaleType  SaleCondition  SalePrice  \n",
       "0      2   2008        WD         Normal     208500  \n",
       "1      5   2007        WD         Normal     181500  \n",
       "2      9   2008        WD         Normal     223500  \n",
       "3      2   2006        WD        Abnorml     140000  \n",
       "4     12   2008        WD         Normal     250000  \n",
       "5     10   2009        WD         Normal     143000  \n",
       "6      8   2007        WD         Normal     307000  \n",
       "7     11   2009        WD         Normal     200000  \n",
       "8      4   2008        WD        Abnorml     129900  \n",
       "9      1   2008        WD         Normal     118000  \n",
       "\n",
       "[10 rows x 81 columns]"
      ]
     },
     "execution_count": 11,
     "metadata": {},
     "output_type": "execute_result"
    }
   ],
   "source": [
    "data.head(10)"
   ]
  },
  {
   "cell_type": "code",
   "execution_count": 12,
   "metadata": {
    "colab": {
     "base_uri": "https://localhost:8080/",
     "height": 564
    },
    "executionInfo": {
     "elapsed": 348,
     "status": "ok",
     "timestamp": 1743810269878,
     "user": {
      "displayName": "Fermin Rodriguez del Castillo",
      "userId": "08847911671418289029"
     },
     "user_tz": 180
    },
    "id": "_8LS8sfMDiLi",
    "outputId": "5f1dcd50-8557-4866-90fe-589d9be67d06"
   },
   "outputs": [
    {
     "data": {
      "image/png": "[encoded data removed]",
      "text/plain": [
       "<Figure size 1000x600 with 1 Axes>"
      ]
     },
     "metadata": {},
     "output_type": "display_data"
    }
   ],
   "source": [
    "missing_percent = data.isnull().mean() * 100\n",
    "missing_percent = missing_percent[missing_percent > 0]\n",
    "missing_percent = missing_percent.sort_values(ascending=False)\n",
    "\n",
    "plt.figure(figsize=(10, 6))\n",
    "missing_percent.plot(kind='barh', color='skyblue')\n",
    "plt.xlabel('Porcentaje de valores faltantes')\n",
    "plt.title('Valores faltantes por columna')\n",
    "plt.gca().invert_yaxis()\n",
    "plt.show()"
   ]
  },
  {
   "cell_type": "code",
   "execution_count": 13,
   "metadata": {
    "colab": {
     "base_uri": "https://localhost:8080/"
    },
    "executionInfo": {
     "elapsed": 6,
     "status": "ok",
     "timestamp": 1743810269886,
     "user": {
      "displayName": "Fermin Rodriguez del Castillo",
      "userId": "08847911671418289029"
     },
     "user_tz": 180
    },
    "id": "3SWVH2sjC7uA",
    "outputId": "5278f1ca-8633-42a8-d739-8c01f0109e9d"
   },
   "outputs": [
    {
     "name": "stdout",
     "output_type": "stream",
     "text": [
      "PoolQC          1453\n",
      "MiscFeature     1406\n",
      "Alley           1369\n",
      "Fence           1179\n",
      "MasVnrType       872\n",
      "FireplaceQu      690\n",
      "LotFrontage      259\n",
      "GarageQual        81\n",
      "GarageFinish      81\n",
      "GarageType        81\n",
      "GarageYrBlt       81\n",
      "GarageCond        81\n",
      "BsmtFinType2      38\n",
      "BsmtExposure      38\n",
      "BsmtCond          37\n",
      "BsmtQual          37\n",
      "BsmtFinType1      37\n",
      "MasVnrArea         8\n",
      "Electrical         1\n",
      "dtype: int64\n"
     ]
    }
   ],
   "source": [
    "missing_values = data.isnull().sum().sort_values(ascending=False)\n",
    "print(missing_values[missing_values > 0])"
   ]
  },
  {
   "cell_type": "markdown",
   "metadata": {
    "id": "vgl_FLQjEmf7"
   },
   "source": [
    "Revisamos qué son exactamente esas columnas y podemos ver que NA no significa que no está el dato si no que NO TIENE eso que dice. Procedemos entonces a cambiar todos esos NA por algo que la computadora pueda interpretar como No-Nulo. Tenemos un problema con LotFrontage que ahora vamos a ir resolviendo. Electrical si que está mal que diga NA, podemos dropear ese dato. ¿Qué hacemos con MasVnrArea? ¿Dropeamos también?"
   ]
  },
  {
   "cell_type": "code",
   "execution_count": 14,
   "metadata": {
    "id": "IsdRViUDKN9o"
   },
   "outputs": [],
   "source": [
    "data['MiscFeature'] = data['MiscFeature'].fillna('NoMiscFeature')\n",
    "data['Alley'] = data['Alley'].fillna('NoAlley')\n",
    "data['Fence'] = data['Fence'].fillna('NoFence')"
   ]
  },
  {
   "cell_type": "code",
   "execution_count": 15,
   "metadata": {
    "colab": {
     "base_uri": "https://localhost:8080/"
    },
    "executionInfo": {
     "elapsed": 7,
     "status": "ok",
     "timestamp": 1743810269898,
     "user": {
      "displayName": "Fermin Rodriguez del Castillo",
      "userId": "08847911671418289029"
     },
     "user_tz": 180
    },
    "id": "_TtibO75HzOr",
    "outputId": "00f30953-adad-47ae-b075-679aac25eebe"
   },
   "outputs": [
    {
     "name": "stdout",
     "output_type": "stream",
     "text": [
      "Registros con PoolQC nulo pero PoolArea > 0:\n",
      "Empty DataFrame\n",
      "Columns: [PoolQC, PoolArea]\n",
      "Index: []\n"
     ]
    }
   ],
   "source": [
    "subset_pool = data[(data['PoolQC'].isna()) & (data['PoolArea'] > 0)]\n",
    "print(\"Registros con PoolQC nulo pero PoolArea > 0:\")\n",
    "print(subset_pool[['PoolQC', 'PoolArea']])"
   ]
  },
  {
   "cell_type": "code",
   "execution_count": 16,
   "metadata": {
    "id": "XgfL_5XCKAw2"
   },
   "outputs": [],
   "source": [
    "data['PoolQC'] = data['PoolQC'].fillna('NoPool')"
   ]
  },
  {
   "cell_type": "code",
   "execution_count": 17,
   "metadata": {
    "colab": {
     "base_uri": "https://localhost:8080/"
    },
    "executionInfo": {
     "elapsed": 11,
     "status": "ok",
     "timestamp": 1743810269948,
     "user": {
      "displayName": "Fermin Rodriguez del Castillo",
      "userId": "08847911671418289029"
     },
     "user_tz": 180
    },
    "id": "Or7J_4fBIgyJ",
    "outputId": "c6c35aa8-91e5-4eb9-b1e5-3bcf79fd5519"
   },
   "outputs": [
    {
     "name": "stdout",
     "output_type": "stream",
     "text": [
      "\n",
      "Registros donde FireplaceQu indica calidad pero Fireplaces es 0 o nulo:\n",
      "Empty DataFrame\n",
      "Columns: [FireplaceQu, Fireplaces]\n",
      "Index: []\n"
     ]
    }
   ],
   "source": [
    "subset_fireplace = data[(data['FireplaceQu'].isnull()) & (data['Fireplaces'] > 0)]\n",
    "print(\"\\nRegistros donde FireplaceQu indica calidad pero Fireplaces es 0 o nulo:\")\n",
    "print(subset_fireplace[['FireplaceQu', 'Fireplaces']])"
   ]
  },
  {
   "cell_type": "code",
   "execution_count": 18,
   "metadata": {
    "id": "x8hGFMMvKLpo"
   },
   "outputs": [],
   "source": [
    "data['FireplaceQu'] = data['FireplaceQu'].fillna('NoFireplace')"
   ]
  },
  {
   "cell_type": "markdown",
   "metadata": {
    "id": "lKjLsQ76TgUQ"
   },
   "source": []
  },
  {
   "cell_type": "code",
   "execution_count": 19,
   "metadata": {
    "id": "JtaH9i6FK9bc"
   },
   "outputs": [],
   "source": [
    "data.loc[(data['MasVnrType'].isnull()) & (data['MasVnrArea'] == 0), 'MasVnrType'] = 'NoMasVnr'"
   ]
  },
  {
   "cell_type": "code",
   "execution_count": 20,
   "metadata": {
    "colab": {
     "base_uri": "https://localhost:8080/"
    },
    "executionInfo": {
     "elapsed": 7,
     "status": "ok",
     "timestamp": 1743810349729,
     "user": {
      "displayName": "Fermin Rodriguez del Castillo",
      "userId": "08847911671418289029"
     },
     "user_tz": 180
    },
    "id": "Hx5wUwuuIcJv",
    "outputId": "3d9e2b2a-c97b-4edd-9dce-3128fccd0e65"
   },
   "outputs": [
    {
     "name": "stdout",
     "output_type": "stream",
     "text": [
      "\n",
      "Registros donde MasVnrType indica revestimiento pero MasVnrArea es 0 o nulo:\n",
      "     MasVnrType  MasVnrArea\n",
      "624         NaN       288.0\n",
      "773         NaN         1.0\n",
      "1230        NaN         1.0\n",
      "1300        NaN       344.0\n",
      "1334        NaN       312.0\n"
     ]
    }
   ],
   "source": [
    "subset_masvnr = data[(data['MasVnrType'].isnull()) & (data['MasVnrArea'] > 0)]\n",
    "print(\"\\nRegistros donde MasVnrType indica revestimiento pero MasVnrArea es 0 o nulo:\")\n",
    "print(subset_masvnr[['MasVnrType', 'MasVnrArea']])"
   ]
  },
  {
   "cell_type": "markdown",
   "metadata": {
    "id": "EQEgiJBEKExc"
   },
   "source": [
    "Acá podría buscar cual es el type mas comun para ese rango y rellenar. no solo con la moda."
   ]
  },
  {
   "cell_type": "code",
   "execution_count": 21,
   "metadata": {
    "colab": {
     "base_uri": "https://localhost:8080/",
     "height": 518
    },
    "executionInfo": {
     "elapsed": 252,
     "status": "ok",
     "timestamp": 1743810270226,
     "user": {
      "displayName": "Fermin Rodriguez del Castillo",
      "userId": "08847911671418289029"
     },
     "user_tz": 180
    },
    "id": "0DQWfhy8LozJ",
    "outputId": "8e021ca4-a494-4d94-f6ca-81012ff80648"
   },
   "outputs": [
    {
     "data": {
      "image/png": "[encoded data removed]",
      "text/plain": [
       "<Figure size 640x480 with 1 Axes>"
      ]
     },
     "metadata": {},
     "output_type": "display_data"
    }
   ],
   "source": [
    "import seaborn as sns\n",
    "import matplotlib.pyplot as plt\n",
    "\n",
    "sns.boxplot(data=data, x='MasVnrType', y='MasVnrArea')\n",
    "plt.title('Distribución de MasVnrArea por MasVnrType')\n",
    "plt.xticks(rotation=45)\n",
    "plt.show()"
   ]
  },
  {
   "cell_type": "code",
   "execution_count": 22,
   "metadata": {
    "id": "KAZxlBP6L_6y"
   },
   "outputs": [],
   "source": [
    "data.loc[(data['MasVnrType'].isnull()) & (data['MasVnrArea'] > 0), 'MasVnrType'] = data['MasVnrType'].mode()[0]"
   ]
  },
  {
   "cell_type": "code",
   "execution_count": 23,
   "metadata": {
    "id": "mATh3CpKMr0s"
   },
   "outputs": [],
   "source": [
    "data['MasVnrType'] = data['MasVnrType'].fillna('NoMasVnr')\n",
    "data['MasVnrArea'] = data['MasVnrArea'].fillna(0)"
   ]
  },
  {
   "cell_type": "code",
   "execution_count": 24,
   "metadata": {
    "colab": {
     "base_uri": "https://localhost:8080/"
    },
    "executionInfo": {
     "elapsed": 31,
     "status": "ok",
     "timestamp": 1743810522093,
     "user": {
      "displayName": "Fermin Rodriguez del Castillo",
      "userId": "08847911671418289029"
     },
     "user_tz": 180
    },
    "id": "ue224TIMNOY8",
    "outputId": "fcbc0bdb-f452-4607-84f0-24130cdf2b47"
   },
   "outputs": [
    {
     "name": "stdout",
     "output_type": "stream",
     "text": [
      "LotFrontage     259\n",
      "GarageType       81\n",
      "GarageFinish     81\n",
      "GarageYrBlt      81\n",
      "GarageCond       81\n",
      "GarageQual       81\n",
      "BsmtExposure     38\n",
      "BsmtFinType2     38\n",
      "BsmtCond         37\n",
      "BsmtQual         37\n",
      "BsmtFinType1     37\n",
      "Electrical        1\n",
      "dtype: int64\n"
     ]
    }
   ],
   "source": [
    "missing_values = data.isnull().sum().sort_values(ascending=False)\n",
    "print(missing_values[missing_values > 0])"
   ]
  },
  {
   "cell_type": "code",
   "execution_count": 25,
   "metadata": {
    "colab": {
     "base_uri": "https://localhost:8080/"
    },
    "executionInfo": {
     "elapsed": 19,
     "status": "ok",
     "timestamp": 1743810270253,
     "user": {
      "displayName": "Fermin Rodriguez del Castillo",
      "userId": "08847911671418289029"
     },
     "user_tz": 180
    },
    "id": "V9aCS5KTIk-4",
    "outputId": "f420ba1e-339c-4af9-9bb5-106b609644ce"
   },
   "outputs": [
    {
     "name": "stdout",
     "output_type": "stream",
     "text": [
      "Empty DataFrame\n",
      "Columns: [GarageCond, GarageType, GarageFinish, GarageQual, GarageYrBlt, GarageArea]\n",
      "Index: []\n"
     ]
    }
   ],
   "source": [
    "garage_cols = ['GarageCond', 'GarageType', 'GarageFinish', 'GarageQual', 'GarageYrBlt']\n",
    "\n",
    "subset_garage = data[(data['GarageArea'] > 0) & (data[garage_cols].isnull().any(axis=1))]\n",
    "print(subset_garage[garage_cols + ['GarageArea']])"
   ]
  },
  {
   "cell_type": "code",
   "execution_count": 26,
   "metadata": {
    "id": "_Ol52ipBNqof"
   },
   "outputs": [],
   "source": [
    "data[['GarageCond', 'GarageType', 'GarageFinish', 'GarageQual']] = data[['GarageCond', 'GarageType', 'GarageFinish', 'GarageQual']].fillna('NoGarage')"
   ]
  },
  {
   "cell_type": "code",
   "execution_count": 27,
   "metadata": {
    "colab": {
     "base_uri": "https://localhost:8080/",
     "height": 359
    },
    "executionInfo": {
     "elapsed": 18,
     "status": "ok",
     "timestamp": 1743810731054,
     "user": {
      "displayName": "Fermin Rodriguez del Castillo",
      "userId": "08847911671418289029"
     },
     "user_tz": 180
    },
    "id": "56MUoKVEN5IY",
    "outputId": "809af084-7c19-4e63-c6f3-17ee254336ed"
   },
   "outputs": [
    {
     "data": {
      "text/html": [
       "<div>\n",
       "<style scoped>\n",
       "    .dataframe tbody tr th:only-of-type {\n",
       "        vertical-align: middle;\n",
       "    }\n",
       "\n",
       "    .dataframe tbody tr th {\n",
       "        vertical-align: top;\n",
       "    }\n",
       "\n",
       "    .dataframe thead th {\n",
       "        text-align: right;\n",
       "    }\n",
       "</style>\n",
       "<table border=\"1\" class=\"dataframe\">\n",
       "  <thead>\n",
       "    <tr style=\"text-align: right;\">\n",
       "      <th></th>\n",
       "      <th>GarageCond</th>\n",
       "      <th>GarageYrBlt</th>\n",
       "    </tr>\n",
       "  </thead>\n",
       "  <tbody>\n",
       "    <tr>\n",
       "      <th>1127</th>\n",
       "      <td>TA</td>\n",
       "      <td>2004.0</td>\n",
       "    </tr>\n",
       "    <tr>\n",
       "      <th>330</th>\n",
       "      <td>TA</td>\n",
       "      <td>2002.0</td>\n",
       "    </tr>\n",
       "    <tr>\n",
       "      <th>1215</th>\n",
       "      <td>TA</td>\n",
       "      <td>1966.0</td>\n",
       "    </tr>\n",
       "    <tr>\n",
       "      <th>129</th>\n",
       "      <td>TA</td>\n",
       "      <td>1998.0</td>\n",
       "    </tr>\n",
       "    <tr>\n",
       "      <th>223</th>\n",
       "      <td>TA</td>\n",
       "      <td>1989.0</td>\n",
       "    </tr>\n",
       "    <tr>\n",
       "      <th>398</th>\n",
       "      <td>Po</td>\n",
       "      <td>1920.0</td>\n",
       "    </tr>\n",
       "    <tr>\n",
       "      <th>131</th>\n",
       "      <td>TA</td>\n",
       "      <td>2000.0</td>\n",
       "    </tr>\n",
       "    <tr>\n",
       "      <th>592</th>\n",
       "      <td>TA</td>\n",
       "      <td>1985.0</td>\n",
       "    </tr>\n",
       "    <tr>\n",
       "      <th>560</th>\n",
       "      <td>TA</td>\n",
       "      <td>1957.0</td>\n",
       "    </tr>\n",
       "    <tr>\n",
       "      <th>470</th>\n",
       "      <td>TA</td>\n",
       "      <td>1985.0</td>\n",
       "    </tr>\n",
       "  </tbody>\n",
       "</table>\n",
       "</div>"
      ],
      "text/plain": [
       "     GarageCond  GarageYrBlt\n",
       "1127         TA       2004.0\n",
       "330          TA       2002.0\n",
       "1215         TA       1966.0\n",
       "129          TA       1998.0\n",
       "223          TA       1989.0\n",
       "398          Po       1920.0\n",
       "131          TA       2000.0\n",
       "592          TA       1985.0\n",
       "560          TA       1957.0\n",
       "470          TA       1985.0"
      ]
     },
     "execution_count": 27,
     "metadata": {},
     "output_type": "execute_result"
    }
   ],
   "source": [
    "data[['GarageCond', 'GarageYrBlt']].sample(10)"
   ]
  },
  {
   "cell_type": "code",
   "execution_count": 28,
   "metadata": {
    "colab": {
     "base_uri": "https://localhost:8080/"
    },
    "executionInfo": {
     "elapsed": 10,
     "status": "ok",
     "timestamp": 1743810270265,
     "user": {
      "displayName": "Fermin Rodriguez del Castillo",
      "userId": "08847911671418289029"
     },
     "user_tz": 180
    },
    "id": "soRo21htIoCl",
    "outputId": "cf23cf07-10e7-49c4-a804-a0e3ba67738e"
   },
   "outputs": [
    {
     "name": "stdout",
     "output_type": "stream",
     "text": [
      "    BsmtFinType2 BsmtExposure BsmtQual BsmtCond BsmtFinType1  TotalBsmtSF\n",
      "332          NaN           No       Gd       TA          GLQ         3206\n",
      "948          Unf          NaN       Gd       TA          Unf          936\n"
     ]
    }
   ],
   "source": [
    "bsmt_cols = ['BsmtFinType2', 'BsmtExposure', 'BsmtQual', 'BsmtCond', 'BsmtFinType1']\n",
    "\n",
    "subset_bsmt = data[(data['TotalBsmtSF'] > 0) & (data[bsmt_cols].isnull().any(axis=1))]\n",
    "print(subset_bsmt[bsmt_cols + ['TotalBsmtSF']])"
   ]
  },
  {
   "cell_type": "code",
   "execution_count": 29,
   "metadata": {
    "id": "gTJUhk1kPyXg"
   },
   "outputs": [],
   "source": [
    "data.loc[332, 'BsmtFinType2'] = data['BsmtFinType2'].mode()[0]\n",
    "\n",
    "data.loc[948, 'BsmtExposure'] = data['BsmtExposure'].mode()[0]"
   ]
  },
  {
   "cell_type": "code",
   "execution_count": 30,
   "metadata": {
    "colab": {
     "base_uri": "https://localhost:8080/"
    },
    "executionInfo": {
     "elapsed": 19,
     "status": "ok",
     "timestamp": 1743811298737,
     "user": {
      "displayName": "Fermin Rodriguez del Castillo",
      "userId": "08847911671418289029"
     },
     "user_tz": 180
    },
    "id": "tmMTJN1iGSQg",
    "outputId": "8bf2fcfa-e506-468f-c7c3-96eea7acc2c1"
   },
   "outputs": [
    {
     "name": "stdout",
     "output_type": "stream",
     "text": [
      "LotFrontage     259\n",
      "GarageYrBlt      81\n",
      "BsmtQual         37\n",
      "BsmtFinType1     37\n",
      "BsmtCond         37\n",
      "BsmtExposure     37\n",
      "BsmtFinType2     37\n",
      "Electrical        1\n",
      "dtype: int64\n"
     ]
    }
   ],
   "source": [
    "missing_values = data.isnull().sum().sort_values(ascending=False)\n",
    "print(missing_values[missing_values > 0])"
   ]
  },
  {
   "cell_type": "code",
   "execution_count": 31,
   "metadata": {
    "id": "8MizKM4fQRB9"
   },
   "outputs": [],
   "source": [
    "basement_columns = ['BsmtFinType2', 'BsmtExposure', 'BsmtQual', 'BsmtCond', 'BsmtFinType1']\n",
    "\n",
    "for column in basement_columns:\n",
    "  data[column].fillna('NoBasement')"
   ]
  },
  {
   "cell_type": "code",
   "execution_count": 32,
   "metadata": {
    "colab": {
     "base_uri": "https://localhost:8080/"
    },
    "executionInfo": {
     "elapsed": 47,
     "status": "ok",
     "timestamp": 1743811341823,
     "user": {
      "displayName": "Fermin Rodriguez del Castillo",
      "userId": "08847911671418289029"
     },
     "user_tz": 180
    },
    "id": "SMu00upAQWhS",
    "outputId": "d998a5a0-be2f-4c63-dd61-289475b1f084"
   },
   "outputs": [
    {
     "name": "stdout",
     "output_type": "stream",
     "text": [
      "LotFrontage     259\n",
      "GarageYrBlt      81\n",
      "BsmtQual         37\n",
      "BsmtFinType1     37\n",
      "BsmtCond         37\n",
      "BsmtExposure     37\n",
      "BsmtFinType2     37\n",
      "Electrical        1\n",
      "dtype: int64\n"
     ]
    }
   ],
   "source": [
    "missing_values = data.isnull().sum().sort_values(ascending=False)\n",
    "print(missing_values[missing_values > 0])"
   ]
  },
  {
   "cell_type": "code",
   "execution_count": 33,
   "metadata": {
    "colab": {
     "base_uri": "https://localhost:8080/",
     "height": 592
    },
    "executionInfo": {
     "elapsed": 460,
     "status": "ok",
     "timestamp": 1743811436187,
     "user": {
      "displayName": "Fermin Rodriguez del Castillo",
      "userId": "08847911671418289029"
     },
     "user_tz": 180
    },
    "id": "h1bA0xjGQtb9",
    "outputId": "e21af368-0969-49f2-fe43-506a9a47c7f6"
   },
   "outputs": [
    {
     "name": "stderr",
     "output_type": "stream",
     "text": [
      "/var/folders/z5/hz8g2_8150x7z4zn9jgm4xjm0000gn/T/ipykernel_28950/1356816780.py:2: FutureWarning: \n",
      "\n",
      "Passing `palette` without assigning `hue` is deprecated and will be removed in v0.14.0. Assign the `x` variable to `hue` and set `legend=False` for the same effect.\n",
      "\n",
      "  sns.countplot(x='Electrical', data=data, palette='viridis')\n"
     ]
    },
    {
     "data": {
      "image/png": "[encoded data removed]",
      "text/plain": [
       "<Figure size 800x500 with 1 Axes>"
      ]
     },
     "metadata": {},
     "output_type": "display_data"
    }
   ],
   "source": [
    "plt.figure(figsize=(8,5))\n",
    "sns.countplot(x='Electrical', data=data, palette='viridis')\n",
    "plt.title('Distribución de Electrical')\n",
    "plt.xlabel('Electrical')\n",
    "plt.ylabel('Frecuencia')\n",
    "plt.show()"
   ]
  },
  {
   "cell_type": "code",
   "execution_count": 34,
   "metadata": {
    "id": "ahyi2VAVQ4Oq"
   },
   "outputs": [],
   "source": [
    "data.loc[data['Electrical'].isnull(), 'Electrical'] = data['Electrical'].mode()[0]"
   ]
  },
  {
   "cell_type": "code",
   "execution_count": 35,
   "metadata": {
    "colab": {
     "base_uri": "https://localhost:8080/"
    },
    "executionInfo": {
     "elapsed": 22,
     "status": "ok",
     "timestamp": 1743811487191,
     "user": {
      "displayName": "Fermin Rodriguez del Castillo",
      "userId": "08847911671418289029"
     },
     "user_tz": 180
    },
    "id": "_8HK-3C1Q50W",
    "outputId": "c87a68ea-8166-416c-defa-f3a88aaaabd4"
   },
   "outputs": [
    {
     "name": "stdout",
     "output_type": "stream",
     "text": [
      "LotFrontage     259\n",
      "GarageYrBlt      81\n",
      "BsmtQual         37\n",
      "BsmtFinType1     37\n",
      "BsmtCond         37\n",
      "BsmtExposure     37\n",
      "BsmtFinType2     37\n",
      "dtype: int64\n"
     ]
    }
   ],
   "source": [
    "missing_values = data.isnull().sum().sort_values(ascending=False)\n",
    "print(missing_values[missing_values > 0])"
   ]
  },
  {
   "cell_type": "code",
   "execution_count": 36,
   "metadata": {
    "colab": {
     "base_uri": "https://localhost:8080/"
    },
    "executionInfo": {
     "elapsed": 24,
     "status": "ok",
     "timestamp": 1743811545192,
     "user": {
      "displayName": "Fermin Rodriguez del Castillo",
      "userId": "08847911671418289029"
     },
     "user_tz": 180
    },
    "id": "_Ouk53G-Q_DF",
    "outputId": "7d7f834c-d5fd-431e-82d7-f4617848fa78"
   },
   "outputs": [
    {
     "name": "stdout",
     "output_type": "stream",
     "text": [
      "LotFrontage      1.000000\n",
      "1stFlrSF         0.457181\n",
      "LotArea          0.426095\n",
      "GrLivArea        0.402797\n",
      "TotalBsmtSF      0.392075\n",
      "TotRmsAbvGrd     0.352096\n",
      "SalePrice        0.351799\n",
      "GarageArea       0.344997\n",
      "GarageCars       0.285691\n",
      "Fireplaces       0.266639\n",
      "BedroomAbvGr     0.263170\n",
      "OverallQual      0.251646\n",
      "BsmtFinSF1       0.233633\n",
      "PoolArea         0.206167\n",
      "FullBath         0.198769\n",
      "MasVnrArea       0.192411\n",
      "OpenPorchSF      0.151972\n",
      "BsmtUnfSF        0.132644\n",
      "YearBuilt        0.123349\n",
      "BsmtFullBath     0.100949\n",
      "YearRemodAdd     0.088866\n",
      "WoodDeckSF       0.088521\n",
      "2ndFlrSF         0.080177\n",
      "GarageYrBlt      0.070250\n",
      "3SsnPorch        0.070029\n",
      "HalfBath         0.053532\n",
      "BsmtFinSF2       0.049900\n",
      "ScreenPorch      0.041383\n",
      "LowQualFinSF     0.038469\n",
      "MoSold           0.011200\n",
      "EnclosedPorch    0.010700\n",
      "YrSold           0.007450\n",
      "MiscVal          0.003368\n",
      "KitchenAbvGr    -0.006069\n",
      "BsmtHalfBath    -0.007234\n",
      "Id              -0.010601\n",
      "OverallCond     -0.059213\n",
      "MSSubClass      -0.386347\n",
      "Name: LotFrontage, dtype: float64\n"
     ]
    }
   ],
   "source": [
    "numeric_data = data.select_dtypes(include=['float64', 'int64'])\n",
    "corr_matrix = numeric_data.corr()\n",
    "\n",
    "print(corr_matrix['LotFrontage'].sort_values(ascending=False))"
   ]
  },
  {
   "cell_type": "markdown",
   "metadata": {
    "id": "VdBschvjREUU"
   },
   "source": [
    "Vemos que correlaciona bastante alto (0.35) con SalePrice, por lo tanto es una variable bastante importante para después entrenar. Siendo tantos no podemos estar borrandolos. Tenemos varias opciones:\n",
    "\n",
    "Opción 1: Llenar con la media. ¿Está bien? ¿Está mal? Hay que pensarlo mucho. A mi me parece que llenar con la media esta mal porque tenemos muchas casas de distintos tipos y formas y vamos a distorsionar mucho la realidad.\n",
    "\n",
    "Opción 2: Llenar con la media pero por vecindario. Mejor que llenar con la media, pero capaz incompleto de todos modos. En este caso lo que haríamos es hacer un groupby por vecindario, calcular la media, y ponerle eso. ¿Se entiende por qué es bastante más acertado que simplemente la media? De todos modos, corremos riesgos.\n",
    "\n",
    "Opción 3: Hacer una regresión y llenar con eso. Bastante más acertado, aunque también es un paso más que tenemos que hacer y, dependiendo de la complejidad, puede salir bien o mal.\n",
    "\n",
    "Cotejemos entonces solamente las opciones 2 y 3.\n",
    "\n",
    "_Media por Neighborhood_\n",
    "\n",
    "Pros: Es simple, es directo y fácil de implementar. Solo necesitamos calcular la mediana de 'LotFrontage' para cada vecindario y aplicar cada valor a las propiedades que le falta ese dato. Dado que los vecindarios pueden tener características parecidas y compartidas es ampliamente superior hacer esto a una mediana global de todas las casas.\n",
    "\n",
    "Contras: Perdemos información de variabilidad dentro de un vecindario. Vamos a tener casas parecidas en ese aspecto y va a suavizar las diferencias entre propiedades del mismo barrio. También, estamos asumiendo homogeneidad en el vecindario, lo cual es imposible de chequear o realmente saber si estamos haciendolo bien.\n",
    "\n",
    "_Regresión_\n",
    "\n",
    "Pros: Mayor precisión, muchísima mayor precisión. Podemos usar distintas variables como LotArea, 1stFlrSF y demás, lo cual lleva a una imputación mucho más precisa y específica para cada propiedad. Vamos a manejar también mucho mejor los outliers y casos especiales que tirando la media.\n",
    "\n",
    "Contras: Requiere tiempo y esfuerzo. Vamos a tener que construir, ajustar y validar el modelo antes de aplicarlo para la imputación. Corremos también el riesgo de sobreajustar un montón.\n",
    "\n",
    "**Conclusión**\n",
    "\n",
    "Si tenemos tiempo y ganas, hacemos una regresión. Si necesitamos responder rápido y simple, imputamos por vecindario. ¿Qué hacemos?"
   ]
  },
  {
   "cell_type": "code",
   "execution_count": 37,
   "metadata": {
    "colab": {
     "base_uri": "https://localhost:8080/"
    },
    "executionInfo": {
     "elapsed": 6,
     "status": "ok",
     "timestamp": 1743811548724,
     "user": {
      "displayName": "Fermin Rodriguez del Castillo",
      "userId": "08847911671418289029"
     },
     "user_tz": 180
    },
    "id": "lAdrey2CREEX",
    "outputId": "75215975-cbba-4336-e770-721ce240fd25"
   },
   "outputs": [
    {
     "name": "stdout",
     "output_type": "stream",
     "text": [
      "Barrios con valores nulos en LotFrontage:\n",
      "Neighborhood\n",
      "NAmes      39\n",
      "Gilbert    30\n",
      "NWAmes     28\n",
      "Sawyer     26\n",
      "CollgCr    24\n",
      "ClearCr    15\n",
      "Mitchel    13\n",
      "Crawfor    10\n",
      "SawyerW     9\n",
      "Edwards     8\n",
      "Timber      8\n",
      "Somerst     8\n",
      "NoRidge     8\n",
      "BrkSide     7\n",
      "StoneBr     5\n",
      "OldTown     4\n",
      "Veenker     4\n",
      "IDOTRR      3\n",
      "Blmngtn     3\n",
      "NPkVill     2\n",
      "MeadowV     2\n",
      "SWISU       2\n",
      "NridgHt     1\n",
      "Name: count, dtype: int64\n"
     ]
    }
   ],
   "source": [
    "missing_lotfrontage = data[data['LotFrontage'].isnull()]\n",
    "\n",
    "missing_neighborhoods = missing_lotfrontage['Neighborhood'].value_counts()\n",
    "\n",
    "print(\"Barrios con valores nulos en LotFrontage:\")\n",
    "print(missing_neighborhoods)"
   ]
  },
  {
   "cell_type": "markdown",
   "metadata": {
    "id": "eUxhtWUcRL3T"
   },
   "source": [
    "Vemos acá arriba que son todas de distintos vecindarios. De todos modos no es información suficiente porque no sabemos cuantas casas con el dato de LotFrontage tiene cada barrio."
   ]
  },
  {
   "cell_type": "code",
   "execution_count": 38,
   "metadata": {
    "colab": {
     "base_uri": "https://localhost:8080/"
    },
    "executionInfo": {
     "elapsed": 55,
     "status": "ok",
     "timestamp": 1743811590946,
     "user": {
      "displayName": "Fermin Rodriguez del Castillo",
      "userId": "08847911671418289029"
     },
     "user_tz": 180
    },
    "id": "r3Wf8mUOROcg",
    "outputId": "5748b4da-1382-43a0-a19a-49e34ce9e2fb"
   },
   "outputs": [
    {
     "name": "stdout",
     "output_type": "stream",
     "text": [
      "Estadísticas de LotFrontage por vecindario:\n",
      "              count       mean        std\n",
      "Neighborhood                             \n",
      "Blmngtn          14  47.142857   4.990100\n",
      "Blueste           2  24.000000   0.000000\n",
      "BrDale           16  21.562500   1.209339\n",
      "BrkSide          51  57.509804  15.528519\n",
      "ClearCr          13  83.461538  18.875096\n",
      "CollgCr         126  71.682540  16.359291\n",
      "Crawfor          41  71.804878  19.436074\n",
      "Edwards          92  68.217391  32.431780\n",
      "Gilbert          49  79.877551  32.748176\n",
      "IDOTRR           34  62.500000  18.282712\n",
      "MeadowV          15  27.800000  10.107988\n",
      "Mitchel          36  70.083333  22.100259\n",
      "NAmes           186  76.462366  23.601905\n",
      "NPkVill           7  32.285714  14.150551\n",
      "NWAmes           45  81.288889  10.614360\n",
      "NoRidge          33  91.878788  25.320147\n",
      "NridgHt          76  81.881579  24.991181\n",
      "OldTown         109  62.788991  18.170017\n",
      "SWISU            23  58.913043  10.539592\n",
      "Sawyer           48  74.437500  14.728618\n",
      "SawyerW          50  71.500000  14.720872\n",
      "Somerst          78  64.666667  22.562276\n",
      "StoneBr          20  62.700000  23.445570\n",
      "Timber           30  80.133333  23.799063\n",
      "Veenker           7  59.714286  25.597619\n"
     ]
    }
   ],
   "source": [
    "neighborhood_stats = data.groupby('Neighborhood')['LotFrontage'].agg(['count', 'mean', 'std'])\n",
    "\n",
    "print(\"Estadísticas de LotFrontage por vecindario:\")\n",
    "print(neighborhood_stats)"
   ]
  },
  {
   "cell_type": "markdown",
   "metadata": {
    "id": "97HqViERRRmy"
   },
   "source": [
    "Para hacerlo un poco más visual, vamos a hacer gráficos en vez de esta tabla de arriba."
   ]
  },
  {
   "cell_type": "code",
   "execution_count": 39,
   "metadata": {
    "colab": {
     "base_uri": "https://localhost:8080/",
     "height": 1000
    },
    "executionInfo": {
     "elapsed": 6640,
     "status": "ok",
     "timestamp": 1743811599760,
     "user": {
      "displayName": "Fermin Rodriguez del Castillo",
      "userId": "08847911671418289029"
     },
     "user_tz": 180
    },
    "id": "NY3qaJkBRTKg",
    "outputId": "09edff77-bfa4-4dde-af93-85961382b559"
   },
   "outputs": [
    {
     "data": {
      "image/png": "[encoded data removed]",
      "text/plain": [
       "<Figure size 2000x2800 with 25 Axes>"
      ]
     },
     "metadata": {},
     "output_type": "display_data"
    }
   ],
   "source": [
    "import matplotlib.pyplot as plt\n",
    "import seaborn as sns\n",
    "import math\n",
    "\n",
    "neighborhoods = data['Neighborhood'].unique()\n",
    "\n",
    "n_cols = 4\n",
    "n_rows = math.ceil(len(neighborhoods) / n_cols)\n",
    "\n",
    "plt.figure(figsize=(20, 4 * n_rows))\n",
    "\n",
    "for i, neighborhood in enumerate(neighborhoods):\n",
    "    plt.subplot(n_rows, n_cols, i + 1)\n",
    "    subset = data[data['Neighborhood'] == neighborhood]\n",
    "    sns.histplot(subset['LotFrontage'], kde=False, bins=15, color='blue', alpha=0.7)\n",
    "    plt.title(neighborhood)\n",
    "    plt.xlabel('LotFrontage')\n",
    "    plt.ylabel('Frecuencia')\n",
    "\n",
    "plt.tight_layout()\n",
    "\n",
    "plt.show()"
   ]
  },
  {
   "cell_type": "code",
   "execution_count": 40,
   "metadata": {
    "id": "Zw2H5Q14Rcbg"
   },
   "outputs": [],
   "source": [
    "data['LotFrontage'] = data.groupby('Neighborhood')['LotFrontage'].transform(lambda x: x.fillna(x.mean()))"
   ]
  },
  {
   "cell_type": "code",
   "execution_count": 41,
   "metadata": {
    "colab": {
     "base_uri": "https://localhost:8080/"
    },
    "executionInfo": {
     "elapsed": 51,
     "status": "ok",
     "timestamp": 1743811645104,
     "user": {
      "displayName": "Fermin Rodriguez del Castillo",
      "userId": "08847911671418289029"
     },
     "user_tz": 180
    },
    "id": "WKNhTdhcRgkZ",
    "outputId": "663a6f18-609a-4e9e-df95-a41f03cac762"
   },
   "outputs": [
    {
     "name": "stdout",
     "output_type": "stream",
     "text": [
      "GarageYrBlt     81\n",
      "BsmtQual        37\n",
      "BsmtCond        37\n",
      "BsmtFinType1    37\n",
      "BsmtFinType2    37\n",
      "BsmtExposure    37\n",
      "dtype: int64\n"
     ]
    }
   ],
   "source": [
    "missing_values = data.isnull().sum().sort_values(ascending=False)\n",
    "print(missing_values[missing_values > 0])"
   ]
  },
  {
   "cell_type": "code",
   "execution_count": 42,
   "metadata": {
    "id": "b4R0msQgSNmG"
   },
   "outputs": [],
   "source": [
    "data['HasGarage'] = (data['GarageArea'] > 0).astype(int)\n",
    "\n",
    "data.loc[data['HasGarage'] == 0, 'GarageYrBlt'] = data.loc[data['HasGarage'] == 0, 'GarageYrBlt'].fillna(-1)"
   ]
  },
  {
   "cell_type": "code",
   "execution_count": 43,
   "metadata": {
    "colab": {
     "base_uri": "https://localhost:8080/"
    },
    "executionInfo": {
     "elapsed": 31,
     "status": "ok",
     "timestamp": 1743811847156,
     "user": {
      "displayName": "Fermin Rodriguez del Castillo",
      "userId": "08847911671418289029"
     },
     "user_tz": 180
    },
    "id": "CZqe1mn8SR5j",
    "outputId": "71018f3f-3b64-4d0e-c271-59f7703e3959"
   },
   "outputs": [
    {
     "name": "stdout",
     "output_type": "stream",
     "text": [
      "BsmtCond        37\n",
      "BsmtQual        37\n",
      "BsmtFinType1    37\n",
      "BsmtExposure    37\n",
      "BsmtFinType2    37\n",
      "dtype: int64\n"
     ]
    }
   ],
   "source": [
    "missing_values = data.isnull().sum().sort_values(ascending=False)\n",
    "print(missing_values[missing_values > 0])"
   ]
  }
 ],
 "metadata": {
  "colab": {
   "provenance": []
  },
  "kernelspec": {
   "display_name": "env",
   "language": "python",
   "name": "python3"
  },
  "language_info": {
   "codemirror_mode": {
    "name": "ipython",
    "version": 3
   },
   "file_extension": ".py",
   "mimetype": "text/x-python",
   "name": "python",
   "nbconvert_exporter": "python",
   "pygments_lexer": "ipython3",
   "version": "3.13.3"
  }
 },
 "nbformat": 4,
 "nbformat_minor": 0
}
