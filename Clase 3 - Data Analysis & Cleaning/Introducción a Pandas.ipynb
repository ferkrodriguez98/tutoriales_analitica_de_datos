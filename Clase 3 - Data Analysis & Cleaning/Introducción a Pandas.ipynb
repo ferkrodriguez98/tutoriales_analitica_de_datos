{
 "cells": [
  {
   "cell_type": "markdown",
   "metadata": {},
   "source": [
    "# Introducción a pandas"
   ]
  },
  {
   "cell_type": "markdown",
   "metadata": {},
   "source": [
    "Es una biblioteca de Python pensada para la manipulación y análisis de datos."
   ]
  },
  {
   "cell_type": "markdown",
   "metadata": {},
   "source": [
    "# Objetos"
   ]
  },
  {
   "cell_type": "markdown",
   "metadata": {},
   "source": [
    "Un objeto es una estructura de datos que pertenece a la librería. El más común es el DataFrame, pero también hay otros como la Series\n",
    "\n",
    "Estos objetos son instancias de clases definidas por Pandas, y tienen:\n",
    "\n",
    "Atributos → información asociada (como el tamaño, las columnas, los índices).\n",
    "\n",
    "Métodos → funciones que podés aplicar sobre ese objeto (como .head(), .describe(), .mean())."
   ]
  },
  {
   "cell_type": "markdown",
   "metadata": {},
   "source": [
    "# Dataframes"
   ]
  },
  {
   "cell_type": "markdown",
   "metadata": {},
   "source": [
    "Un DataFrame es como una tabla: tiene filas y columnas, y cada columna puede tener un tipo de dato diferente. Acá, por ejemplo, tenemos una columna de nombres (texto), una de edades (números) y una de ciudades (texto). Pandas nos permite trabajar con esta estructura de manera muy eficiente."
   ]
  },
  {
   "cell_type": "code",
   "execution_count": 1,
   "metadata": {},
   "outputs": [
    {
     "data": {
      "text/html": [
       "<div>\n",
       "<style scoped>\n",
       "    .dataframe tbody tr th:only-of-type {\n",
       "        vertical-align: middle;\n",
       "    }\n",
       "\n",
       "    .dataframe tbody tr th {\n",
       "        vertical-align: top;\n",
       "    }\n",
       "\n",
       "    .dataframe thead th {\n",
       "        text-align: right;\n",
       "    }\n",
       "</style>\n",
       "<table border=\"1\" class=\"dataframe\">\n",
       "  <thead>\n",
       "    <tr style=\"text-align: right;\">\n",
       "      <th></th>\n",
       "      <th>Nombre</th>\n",
       "      <th>Edad</th>\n",
       "      <th>Ciudad</th>\n",
       "    </tr>\n",
       "  </thead>\n",
       "  <tbody>\n",
       "    <tr>\n",
       "      <th>0</th>\n",
       "      <td>Ana</td>\n",
       "      <td>22</td>\n",
       "      <td>Buenos Aires</td>\n",
       "    </tr>\n",
       "    <tr>\n",
       "      <th>1</th>\n",
       "      <td>Luis</td>\n",
       "      <td>35</td>\n",
       "      <td>Rosario</td>\n",
       "    </tr>\n",
       "    <tr>\n",
       "      <th>2</th>\n",
       "      <td>Marta</td>\n",
       "      <td>58</td>\n",
       "      <td>Córdoba</td>\n",
       "    </tr>\n",
       "    <tr>\n",
       "      <th>3</th>\n",
       "      <td>Carlos</td>\n",
       "      <td>30</td>\n",
       "      <td>Buenos Aires</td>\n",
       "    </tr>\n",
       "    <tr>\n",
       "      <th>4</th>\n",
       "      <td>Lucas</td>\n",
       "      <td>50</td>\n",
       "      <td>San Juan</td>\n",
       "    </tr>\n",
       "    <tr>\n",
       "      <th>5</th>\n",
       "      <td>Miguel</td>\n",
       "      <td>23</td>\n",
       "      <td>Rosario</td>\n",
       "    </tr>\n",
       "  </tbody>\n",
       "</table>\n",
       "</div>"
      ],
      "text/plain": [
       "   Nombre  Edad        Ciudad\n",
       "0     Ana    22  Buenos Aires\n",
       "1    Luis    35       Rosario\n",
       "2   Marta    58       Córdoba\n",
       "3  Carlos    30  Buenos Aires\n",
       "4   Lucas    50      San Juan\n",
       "5  Miguel    23       Rosario"
      ]
     },
     "execution_count": 1,
     "metadata": {},
     "output_type": "execute_result"
    }
   ],
   "source": [
    "import pandas as pd  # Importamos la librería\n",
    "\n",
    "# Creamos un DataFrame a partir de un diccionario\n",
    "datos = {\n",
    "    \"Nombre\": [\"Ana\", \"Luis\", \"Marta\",\"Carlos\", \"Lucas\", \"Miguel\"],\n",
    "    \"Edad\": [22, 35, 58, 30, 50, 23],\n",
    "    \"Ciudad\": [\"Buenos Aires\", \"Rosario\", \"Córdoba\",\"Buenos Aires\", \"San Juan\", \"Rosario\"]\n",
    "}\n",
    "\n",
    "df = pd.DataFrame(datos)\n",
    "\n",
    "# Mostramos el DataFrame\n",
    "df"
   ]
  },
  {
   "cell_type": "code",
   "execution_count": 2,
   "metadata": {},
   "outputs": [
    {
     "name": "stdout",
     "output_type": "stream",
     "text": [
      "   Nombre  Edad        Ciudad\n",
      "0     Ana    22  Buenos Aires\n",
      "1    Luis    35       Rosario\n",
      "2   Marta    58       Córdoba\n",
      "3  Carlos    30  Buenos Aires\n",
      "4   Lucas    50      San Juan\n",
      "5  Miguel    23       Rosario\n"
     ]
    }
   ],
   "source": [
    "# Si hacen el print (df) se ve con esta visualización, siempre es mejor hacerlo sin el print()\n",
    "print(df)"
   ]
  },
  {
   "cell_type": "code",
   "execution_count": 3,
   "metadata": {},
   "outputs": [
    {
     "data": {
      "text/html": [
       "<div>\n",
       "<style scoped>\n",
       "    .dataframe tbody tr th:only-of-type {\n",
       "        vertical-align: middle;\n",
       "    }\n",
       "\n",
       "    .dataframe tbody tr th {\n",
       "        vertical-align: top;\n",
       "    }\n",
       "\n",
       "    .dataframe thead th {\n",
       "        text-align: right;\n",
       "    }\n",
       "</style>\n",
       "<table border=\"1\" class=\"dataframe\">\n",
       "  <thead>\n",
       "    <tr style=\"text-align: right;\">\n",
       "      <th></th>\n",
       "      <th>Nombre</th>\n",
       "      <th>Edad</th>\n",
       "      <th>Ciudad</th>\n",
       "    </tr>\n",
       "  </thead>\n",
       "  <tbody>\n",
       "    <tr>\n",
       "      <th>0</th>\n",
       "      <td>Ana</td>\n",
       "      <td>22</td>\n",
       "      <td>Buenos Aires</td>\n",
       "    </tr>\n",
       "    <tr>\n",
       "      <th>1</th>\n",
       "      <td>Luis</td>\n",
       "      <td>35</td>\n",
       "      <td>Rosario</td>\n",
       "    </tr>\n",
       "    <tr>\n",
       "      <th>2</th>\n",
       "      <td>Marta</td>\n",
       "      <td>58</td>\n",
       "      <td>Córdoba</td>\n",
       "    </tr>\n",
       "    <tr>\n",
       "      <th>3</th>\n",
       "      <td>Carlos</td>\n",
       "      <td>30</td>\n",
       "      <td>Buenos Aires</td>\n",
       "    </tr>\n",
       "    <tr>\n",
       "      <th>4</th>\n",
       "      <td>Lucas</td>\n",
       "      <td>50</td>\n",
       "      <td>San Juan</td>\n",
       "    </tr>\n",
       "    <tr>\n",
       "      <th>5</th>\n",
       "      <td>Miguel</td>\n",
       "      <td>23</td>\n",
       "      <td>Rosario</td>\n",
       "    </tr>\n",
       "  </tbody>\n",
       "</table>\n",
       "</div>"
      ],
      "text/plain": [
       "   Nombre  Edad        Ciudad\n",
       "0     Ana    22  Buenos Aires\n",
       "1    Luis    35       Rosario\n",
       "2   Marta    58       Córdoba\n",
       "3  Carlos    30  Buenos Aires\n",
       "4   Lucas    50      San Juan\n",
       "5  Miguel    23       Rosario"
      ]
     },
     "execution_count": 3,
     "metadata": {},
     "output_type": "execute_result"
    }
   ],
   "source": [
    "df"
   ]
  },
  {
   "cell_type": "code",
   "execution_count": 4,
   "metadata": {},
   "outputs": [
    {
     "name": "stdout",
     "output_type": "stream",
     "text": [
      "(6, 3)\n"
     ]
    }
   ],
   "source": [
    "print(df.shape)"
   ]
  },
  {
   "cell_type": "code",
   "execution_count": 5,
   "metadata": {},
   "outputs": [
    {
     "name": "stdout",
     "output_type": "stream",
     "text": [
      "   Nombre  Edad        Ciudad\n",
      "0     Ana    22  Buenos Aires\n",
      "1    Luis    35       Rosario\n",
      "2   Marta    58       Córdoba\n",
      "3  Carlos    30  Buenos Aires\n",
      "4   Lucas    50      San Juan\n",
      "\n",
      "            Edad\n",
      "count   6.000000\n",
      "mean   36.333333\n",
      "std    14.706008\n",
      "min    22.000000\n",
      "25%    24.750000\n",
      "50%    32.500000\n",
      "75%    46.250000\n",
      "max    58.000000\n"
     ]
    }
   ],
   "source": [
    "# Y métodos\n",
    "print(df.head())    # Muestra las primeras 5 filas del df\n",
    "print()\n",
    "print(df.describe())  # Estadísticas básicas de las columnas numéricas"
   ]
  },
  {
   "cell_type": "markdown",
   "metadata": {},
   "source": [
    "# Series\n",
    "\n",
    "Una Serie es un objeto unidimensional de Pandas. Es como una columna de Excel o una lista, pero con etiquetas (índices) que podés personalizar.\n",
    "\n",
    "Es más poderosa que una lista común porque tiene etiquetas para cada dato.\n",
    "\n",
    "Puede contener números, texto, fechas, etc.\n",
    "\n",
    "Es la unidad básica sobre la que se construyen los DataFrames."
   ]
  },
  {
   "cell_type": "code",
   "execution_count": 6,
   "metadata": {},
   "outputs": [
    {
     "data": {
      "text/plain": [
       "Ana      22\n",
       "Luis     35\n",
       "Marta    58\n",
       "dtype: int64"
      ]
     },
     "execution_count": 6,
     "metadata": {},
     "output_type": "execute_result"
    }
   ],
   "source": [
    "import pandas as pd\n",
    "\n",
    "# Creamos una Serie con una lista de valores\n",
    "edades = pd.Series([22, 35, 58], index=[\"Ana\", \"Luis\", \"Marta\"])\n",
    "\n",
    "# Mostramos la Serie\n",
    "edades"
   ]
  },
  {
   "cell_type": "code",
   "execution_count": 7,
   "metadata": {},
   "outputs": [],
   "source": [
    "lista = [22, 35, 58]  # No tiene etiquetas\n",
    "serie = pd.Series(lista, index=[\"Ana\", \"Luis\", \"Marta\"])  # Tiene etiquetas"
   ]
  }
 ],
 "metadata": {
  "kernelspec": {
   "display_name": "env",
   "language": "python",
   "name": "python3"
  },
  "language_info": {
   "codemirror_mode": {
    "name": "ipython",
    "version": 3
   },
   "file_extension": ".py",
   "mimetype": "text/x-python",
   "name": "python",
   "nbconvert_exporter": "python",
   "pygments_lexer": "ipython3",
   "version": "3.13.3"
  }
 },
 "nbformat": 4,
 "nbformat_minor": 4
}
